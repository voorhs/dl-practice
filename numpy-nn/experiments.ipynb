{
 "cells": [
  {
   "attachments": {},
   "cell_type": "markdown",
   "metadata": {},
   "source": [
    "# Полносвязная нейросеть на numpy"
   ]
  },
  {
   "cell_type": "code",
   "execution_count": 1,
   "metadata": {},
   "outputs": [],
   "source": [
    "from layers import ReLU, Tanh, Sigmoid, Dense, LogSoftmax\n",
    "from loss import NLL, grad_NLL\n",
    "from numericgrad import num_grad\n",
    "\n",
    "import numpy as np\n",
    "from scipy.optimize import minimize"
   ]
  },
  {
   "attachments": {},
   "cell_type": "markdown",
   "metadata": {},
   "source": [
    "## Проверка правильности реализованных градиентов"
   ]
  },
  {
   "attachments": {},
   "cell_type": "markdown",
   "metadata": {},
   "source": [
    "### NLL loss"
   ]
  },
  {
   "attachments": {},
   "cell_type": "markdown",
   "metadata": {},
   "source": [
    "Сравним аналитический и численный градиенты лосса NLL"
   ]
  },
  {
   "cell_type": "code",
   "execution_count": 2,
   "metadata": {},
   "outputs": [],
   "source": [
    "n = 2   # batch size\n",
    "d = 10  # units num\n",
    "target = np.random.choice(d, size=n)\n",
    "batch = np.random.uniform(-1, 1, n*d).reshape((n, d))\n",
    "\n",
    "# analytical formula\n",
    "lsm = LogSoftmax(d)\n",
    "acts = lsm.forward(batch)\n",
    "loss = NLL(acts, target)\n",
    "grads = lsm.backward(grad_NLL(acts, target))[0]\n",
    "\n",
    "# numerical estimation\n",
    "num_grads = num_grad(lambda x: NLL(lsm.forward(x), target), batch)\n",
    "\n",
    "assert np.allclose(grads, num_grads, rtol=1e-3, atol=0)"
   ]
  },
  {
   "attachments": {},
   "cell_type": "markdown",
   "metadata": {},
   "source": [
    "### ReLU"
   ]
  },
  {
   "attachments": {},
   "cell_type": "markdown",
   "metadata": {},
   "source": [
    "Сравним аналитический и численный градиенты функции\n",
    "$$ f(y) = \\sum_i y_i, \\quad y = ReLU(x) $$\n",
    "по входу функции ReLU. На вход `relu.backward()` нужно подать\n",
    "$$\n",
    "\\frac{\\partial f}{\\partial y}=\\mathbb{1}.\n",
    "$$"
   ]
  },
  {
   "cell_type": "code",
   "execution_count": 3,
   "metadata": {},
   "outputs": [],
   "source": [
    "n = 10  # batch size\n",
    "d = 12  # input size\n",
    "relu = ReLU()\n",
    "points = np.linspace(-1, 1, n * d).reshape((n,d))\n",
    "\n",
    "# analytical formula\n",
    "f = relu.forward(points).sum(axis=1)\n",
    "grads = relu.backward(np.ones((n, d)))\n",
    "\n",
    "# numerical estimation\n",
    "num_grads = num_grad(lambda x: relu.forward(x).sum(), points)\n",
    "\n",
    "assert np.allclose(grads[0], num_grads, rtol=1e-3, atol=0)"
   ]
  },
  {
   "attachments": {},
   "cell_type": "markdown",
   "metadata": {},
   "source": [
    "### Linear Layer"
   ]
  },
  {
   "attachments": {},
   "cell_type": "markdown",
   "metadata": {},
   "source": [
    "Сравним аналитический и численный градиенты лосса NLL по входу полносвязного слоя "
   ]
  },
  {
   "cell_type": "code",
   "execution_count": 4,
   "metadata": {},
   "outputs": [],
   "source": [
    "n = 10  # batch size\n",
    "d = 12  # input size\n",
    "m = 32  # output size\n",
    "linear = Dense(d, m)\n",
    "points = np.linspace(-1, 1, n * d).reshape((n, d))\n",
    "\n",
    "# analytical formula\n",
    "f = linear.forward(points).sum(axis=1)\n",
    "grads = linear.backward(np.ones((n, m)))\n",
    "\n",
    "# numerical estimation\n",
    "num_grads = num_grad(lambda x: linear.forward(x).sum(), points)\n",
    "\n",
    "assert np.allclose(grads[0], num_grads, rtol=1e-3, atol=0)"
   ]
  },
  {
   "attachments": {},
   "cell_type": "markdown",
   "metadata": {},
   "source": [
    "## Обучение сети"
   ]
  },
  {
   "attachments": {},
   "cell_type": "markdown",
   "metadata": {},
   "source": [
    "### Загрузка данных"
   ]
  },
  {
   "cell_type": "code",
   "execution_count": 5,
   "metadata": {},
   "outputs": [],
   "source": [
    "from sklearn.datasets import load_digits\n",
    "from sklearn.model_selection import train_test_split\n",
    "import matplotlib.pyplot as plt\n",
    "%matplotlib inline"
   ]
  },
  {
   "cell_type": "code",
   "execution_count": 6,
   "metadata": {},
   "outputs": [
    {
     "data": {
      "text/plain": [
       "((1347, 64), (450, 64))"
      ]
     },
     "execution_count": 6,
     "metadata": {},
     "output_type": "execute_result"
    }
   ],
   "source": [
    "X, y = load_digits(return_X_y=True)\n",
    "X_train, X_test, y_train, y_test = train_test_split(X, y, random_state=0)\n",
    "X_train.shape, X_test.shape"
   ]
  },
  {
   "attachments": {},
   "cell_type": "markdown",
   "metadata": {},
   "source": [
    "### Утилиты для обучения"
   ]
  },
  {
   "cell_type": "code",
   "execution_count": 7,
   "metadata": {},
   "outputs": [],
   "source": [
    "def make_network(input_size, hidden_layers_size, output_size, n_layers=3, activation_class=ReLU):\n",
    "    network = []\n",
    "\n",
    "    for layer_idx in range(n_layers):\n",
    "        # Compute sizes of current linear layer\n",
    "        layer_in = input_size if layer_idx == 0 else hidden_layers_size\n",
    "        layer_out = output_size if layer_idx == n_layers - 1 else hidden_layers_size\n",
    "        \n",
    "        # Add linear layer to the network\n",
    "        network.append(Dense(layer_in, layer_out))\n",
    "\n",
    "        # Add activation after each layer except the last one\n",
    "        if layer_idx != n_layers - 1:\n",
    "            network.append(activation_class())\n",
    "\n",
    "    # Add LogSoftmax layer to the network\n",
    "    network.append(LogSoftmax(output_size))\n",
    "\n",
    "    return network"
   ]
  },
  {
   "cell_type": "code",
   "execution_count": 8,
   "metadata": {},
   "outputs": [],
   "source": [
    "def forward(network, X):\n",
    "    \"\"\"\n",
    "    Perform forward pass through the network.\n",
    "    \n",
    "    network: list of layers\n",
    "    X: raw data, shape (batch, features_num)\n",
    "\n",
    "    output: shape (batch, out_features_num)\n",
    "    \"\"\"\n",
    "    x = X.copy()\n",
    "    for layer in network:\n",
    "      x = layer.forward(x)\n",
    "    return x"
   ]
  },
  {
   "cell_type": "code",
   "execution_count": 9,
   "metadata": {},
   "outputs": [],
   "source": [
    "def predict(network, X):\n",
    "    \"\"\"\n",
    "    Returns predictions for each object in X.\n",
    "    \n",
    "    network: list of layers\n",
    "    X: raw data, shape (batch, features_num)\n",
    "\n",
    "    output: array of classes, each from 0 to 9\n",
    "            shape (batch,)\n",
    "    \"\"\"\n",
    "    return forward(network, X).argmax(axis=1)"
   ]
  },
  {
   "cell_type": "code",
   "execution_count": 10,
   "metadata": {},
   "outputs": [],
   "source": [
    "def get_weights(network):\n",
    "    weights = []\n",
    "    for layer in network:\n",
    "        for param in layer.params:\n",
    "            weights += param.ravel().tolist()\n",
    "    return np.array(weights)\n",
    "\n",
    "\n",
    "def set_weights(weights, network):\n",
    "    i = 0\n",
    "    for layer in network:\n",
    "        for param in layer.params:\n",
    "            l = param.size\n",
    "            param[:] = weights[i:i+l].reshape(param.shape)\n",
    "            i += l"
   ]
  },
  {
   "cell_type": "code",
   "execution_count": 11,
   "metadata": {},
   "outputs": [],
   "source": [
    "def compute_loss_grad(weights, args):\n",
    "    \"\"\"\n",
    "    takes current weights and computes cross-entropy and gradients\n",
    "    weights shape: [num_parameters]\n",
    "    output 1: loss (scalar)\n",
    "    output 2: gradint w.r.t. weights, shape: [num_parameters]\n",
    "    \"\"\"\n",
    "    network, X, y = args\n",
    "\n",
    "    # forward pass\n",
    "    set_weights(weights, network)\n",
    "    y_pred = forward(network, X)\n",
    "    \n",
    "    # compute loss\n",
    "    loss = NLL(y_pred, y)\n",
    "    \n",
    "    # compute loss grad\n",
    "    grad_output = grad_NLL(y_pred, y)\n",
    "\n",
    "    # backward pass\n",
    "    grads = []\n",
    "    for layer in network[::-1]:\n",
    "      grad_output, grad_params = layer.backward(grad_output)\n",
    "      grads = grad_params + grads\n",
    "\n",
    "    # to numpy\n",
    "    grads = np.concatenate(grads)\n",
    "\n",
    "    return loss, grads"
   ]
  },
  {
   "cell_type": "code",
   "execution_count": 12,
   "metadata": {},
   "outputs": [],
   "source": [
    "class Callback:\n",
    "    def __init__(self, network, X_train, y_train, X_test, y_test, print=False):\n",
    "        self.network = network\n",
    "        self.X_train = X_train\n",
    "        self.X_test = X_test\n",
    "        self.y_train = y_train\n",
    "        self.y_test = y_test\n",
    "        self.print = print\n",
    "        self.train_acc = []\n",
    "        self.test_acc = []\n",
    "        \n",
    "    def call(self, weights):\n",
    "        \"\"\"\n",
    "        Computes quality on train and test set with given weights\n",
    "        and saves to self.train_acc and self.test_acc.\n",
    "        If self.print is True, also prints these 2 values\n",
    "        \"\"\"\n",
    "        set_weights(weights, self.network)\n",
    "        train_pred = predict(self.network, self.X_train)\n",
    "        test_pred = predict(self.network, self.X_test)\n",
    "        acc1 = (train_pred == self.y_train).mean()\n",
    "        acc2 = (test_pred == self.y_test).mean()\n",
    "        self.train_acc.append(acc1)\n",
    "        self.test_acc.append(acc2)\n",
    "        if self.print:\n",
    "          print(f'train acc: {acc1:.3f}, test acc: {acc2:.3f}')\n",
    "        if acc2 > max(self.test_acc):\n",
    "          self.weights = weights.copy()"
   ]
  },
  {
   "attachments": {},
   "cell_type": "markdown",
   "metadata": {},
   "source": [
    "### Обучение"
   ]
  },
  {
   "cell_type": "code",
   "execution_count": 13,
   "metadata": {},
   "outputs": [
    {
     "data": {
      "text/plain": [
       "[Dense(64, 32), Relu(), Dense(32, 32), Relu(), Dense(32, 10), LogSoftmax(10)]"
      ]
     },
     "execution_count": 13,
     "metadata": {},
     "output_type": "execute_result"
    }
   ],
   "source": [
    "input_size = X_train.shape[1]\n",
    "hidden_layers_size = 32\n",
    "output_size = 10\n",
    "\n",
    "network = make_network(input_size, hidden_layers_size, output_size, 3, ReLU)\n",
    "network"
   ]
  },
  {
   "cell_type": "code",
   "execution_count": 14,
   "metadata": {},
   "outputs": [
    {
     "name": "stdout",
     "output_type": "stream",
     "text": [
      "train acc: 0.106, test acc: 0.084\n",
      "train acc: 0.113, test acc: 0.093\n",
      "train acc: 0.116, test acc: 0.093\n",
      "train acc: 0.151, test acc: 0.127\n",
      "train acc: 0.352, test acc: 0.331\n",
      "train acc: 0.351, test acc: 0.358\n",
      "train acc: 0.472, test acc: 0.476\n",
      "train acc: 0.441, test acc: 0.431\n",
      "train acc: 0.578, test acc: 0.551\n",
      "train acc: 0.572, test acc: 0.571\n",
      "train acc: 0.683, test acc: 0.642\n",
      "train acc: 0.719, test acc: 0.687\n",
      "train acc: 0.745, test acc: 0.711\n",
      "train acc: 0.786, test acc: 0.756\n",
      "train acc: 0.783, test acc: 0.742\n",
      "train acc: 0.800, test acc: 0.784\n",
      "train acc: 0.836, test acc: 0.811\n",
      "train acc: 0.854, test acc: 0.833\n",
      "train acc: 0.872, test acc: 0.869\n",
      "train acc: 0.875, test acc: 0.864\n",
      "train acc: 0.884, test acc: 0.880\n",
      "train acc: 0.889, test acc: 0.893\n",
      "train acc: 0.907, test acc: 0.900\n",
      "train acc: 0.922, test acc: 0.907\n",
      "train acc: 0.931, test acc: 0.909\n",
      "train acc: 0.938, test acc: 0.916\n",
      "train acc: 0.945, test acc: 0.927\n",
      "train acc: 0.950, test acc: 0.933\n",
      "train acc: 0.953, test acc: 0.933\n",
      "train acc: 0.956, test acc: 0.927\n",
      "train acc: 0.958, test acc: 0.931\n",
      "train acc: 0.960, test acc: 0.927\n",
      "train acc: 0.962, test acc: 0.933\n",
      "train acc: 0.963, test acc: 0.938\n",
      "train acc: 0.970, test acc: 0.936\n",
      "train acc: 0.973, test acc: 0.949\n",
      "train acc: 0.973, test acc: 0.944\n",
      "train acc: 0.981, test acc: 0.942\n",
      "train acc: 0.982, test acc: 0.942\n",
      "train acc: 0.978, test acc: 0.956\n",
      "train acc: 0.981, test acc: 0.956\n",
      "train acc: 0.984, test acc: 0.956\n",
      "train acc: 0.989, test acc: 0.951\n",
      "train acc: 0.989, test acc: 0.953\n",
      "train acc: 0.991, test acc: 0.951\n",
      "train acc: 0.992, test acc: 0.953\n",
      "train acc: 0.993, test acc: 0.953\n",
      "train acc: 0.993, test acc: 0.953\n",
      "train acc: 0.994, test acc: 0.953\n",
      "train acc: 0.995, test acc: 0.956\n",
      "train acc: 0.996, test acc: 0.960\n",
      "train acc: 0.997, test acc: 0.960\n",
      "train acc: 0.998, test acc: 0.960\n",
      "train acc: 0.999, test acc: 0.956\n",
      "train acc: 0.999, test acc: 0.958\n",
      "train acc: 0.999, test acc: 0.956\n",
      "train acc: 1.000, test acc: 0.956\n",
      "train acc: 0.999, test acc: 0.953\n",
      "train acc: 1.000, test acc: 0.956\n",
      "train acc: 1.000, test acc: 0.956\n",
      "train acc: 1.000, test acc: 0.956\n",
      "train acc: 1.000, test acc: 0.958\n",
      "train acc: 1.000, test acc: 0.953\n",
      "train acc: 1.000, test acc: 0.958\n",
      "train acc: 1.000, test acc: 0.958\n",
      "train acc: 1.000, test acc: 0.956\n",
      "train acc: 1.000, test acc: 0.953\n",
      "train acc: 1.000, test acc: 0.958\n",
      "train acc: 1.000, test acc: 0.958\n",
      "train acc: 1.000, test acc: 0.958\n",
      "train acc: 1.000, test acc: 0.958\n",
      "train acc: 1.000, test acc: 0.958\n",
      "train acc: 1.000, test acc: 0.960\n",
      "train acc: 1.000, test acc: 0.960\n",
      "train acc: 1.000, test acc: 0.960\n",
      "train acc: 1.000, test acc: 0.958\n",
      "train acc: 1.000, test acc: 0.958\n",
      "train acc: 1.000, test acc: 0.958\n",
      "train acc: 1.000, test acc: 0.958\n",
      "train acc: 1.000, test acc: 0.958\n",
      "train acc: 1.000, test acc: 0.956\n",
      "train acc: 1.000, test acc: 0.956\n",
      "train acc: 1.000, test acc: 0.956\n",
      "train acc: 1.000, test acc: 0.956\n",
      "train acc: 1.000, test acc: 0.953\n",
      "train acc: 1.000, test acc: 0.953\n",
      "train acc: 1.000, test acc: 0.956\n",
      "train acc: 1.000, test acc: 0.956\n",
      "train acc: 1.000, test acc: 0.956\n"
     ]
    }
   ],
   "source": [
    "cb = Callback(network, X_train, y_train, X_test, y_test, print=True)\n",
    "\n",
    "res = minimize(\n",
    "    compute_loss_grad, get_weights(network),\n",
    "    args=[network, X_train, y_train],\n",
    "    method=\"L-BFGS-B\",\n",
    "    jac=True,\n",
    "    callback=cb.call\n",
    ")"
   ]
  },
  {
   "attachments": {},
   "cell_type": "markdown",
   "metadata": {},
   "source": [
    "Результаты обучения:"
   ]
  },
  {
   "cell_type": "code",
   "execution_count": 15,
   "metadata": {},
   "outputs": [
    {
     "data": {
      "text/plain": [
       "      fun: 5.486432177332547e-07\n",
       " hess_inv: <3466x3466 LbfgsInvHessProduct with dtype=float64>\n",
       "      jac: array([ 0.00000000e+00, -1.85217990e-08, -2.23786698e-07, ...,\n",
       "        4.19404816e-08, -1.00136642e-07, -4.78528109e-08])\n",
       "  message: 'CONVERGENCE: NORM_OF_PROJECTED_GRADIENT_<=_PGTOL'\n",
       "     nfev: 101\n",
       "      nit: 89\n",
       "     njev: 101\n",
       "   status: 0\n",
       "  success: True\n",
       "        x: array([-1.63268799e-03,  1.26299985e-02, -1.03791955e-02, ...,\n",
       "       -9.61990132e-01, -1.92585200e+00, -4.21117316e-01])"
      ]
     },
     "execution_count": 15,
     "metadata": {},
     "output_type": "execute_result"
    }
   ],
   "source": [
    "res"
   ]
  },
  {
   "cell_type": "code",
   "execution_count": 16,
   "metadata": {},
   "outputs": [
    {
     "name": "stdout",
     "output_type": "stream",
     "text": [
      "NLL (Train / Test)\t: 0.000 / 1.071\n",
      "Accuracy (Train / Test)\t: 1.000 / 0.956\n"
     ]
    },
    {
     "data": {
      "image/png": "[encoded data removed]",
      "text/plain": [
       "<Figure size 640x480 with 1 Axes>"
      ]
     },
     "metadata": {},
     "output_type": "display_data"
    }
   ],
   "source": [
    "set_weights(res['x'], network)\n",
    "train_pred = forward(network, X_train)\n",
    "test_pred = forward(network, X_test)\n",
    "nll_train = NLL(train_pred, y_train)\n",
    "nll_test = NLL(test_pred, y_test)\n",
    "print(f'NLL (Train / Test)\\t: {nll_train:.3f} / {nll_test:.3f}')\n",
    "acc_train = (train_pred.argmax(axis=1) == y_train).mean()\n",
    "acc_test = (test_pred.argmax(axis=1) == y_test).mean()\n",
    "print(f'Accuracy (Train / Test)\\t: {acc_train:.3f} / {acc_test:.3f}')\n",
    "\n",
    "plt.plot(cb.train_acc, label=\"train acc\")\n",
    "plt.plot(cb.test_acc, label=\"test acc\")\n",
    "plt.xlabel(\"Iteration\")\n",
    "plt.ylabel(\"Accuracy\")\n",
    "plt.grid(True)\n",
    "plt.legend()\n",
    "\n",
    "plt.tight_layout()\n",
    "plt.show()"
   ]
  },
  {
   "attachments": {},
   "cell_type": "markdown",
   "metadata": {},
   "source": [
    "## Эксперименты"
   ]
  },
  {
   "cell_type": "code",
   "execution_count": 17,
   "metadata": {},
   "outputs": [],
   "source": [
    "def score(network, res):\n",
    "  set_weights(res['x'], network)\n",
    "  train_pred = predict(network, X_train)\n",
    "  test_pred = predict(network, X_test)\n",
    "  acc_train = (train_pred == y_train).mean()\n",
    "  acc_test = (test_pred == y_test).mean()\n",
    "  return acc_train, acc_test"
   ]
  },
  {
   "attachments": {},
   "cell_type": "markdown",
   "metadata": {},
   "source": [
    "### Число слоёв"
   ]
  },
  {
   "attachments": {},
   "cell_type": "markdown",
   "metadata": {},
   "source": [
    "Посмотрим, какое качество достигает сеть в зависимости от числа слоёв."
   ]
  },
  {
   "cell_type": "code",
   "execution_count": 18,
   "metadata": {},
   "outputs": [
    {
     "data": {
      "image/png": "[encoded data removed]",
      "text/plain": [
       "<Figure size 600x500 with 2 Axes>"
      ]
     },
     "metadata": {},
     "output_type": "display_data"
    }
   ],
   "source": [
    "# configs\n",
    "n_layers = 5\n",
    "n_tries = 5\n",
    "accs_train = np.zeros((n_layers, n_tries))\n",
    "accs_test = np.zeros((n_layers, n_tries))\n",
    "\n",
    "input_size = X_train.shape[1]\n",
    "hidden_layers_size = 32\n",
    "output_size = 10\n",
    "\n",
    "# experiments\n",
    "for i in range(n_layers):\n",
    "  for j in range(n_tries):\n",
    "    network = make_network(input_size, hidden_layers_size, output_size, i+1, ReLU)\n",
    "    res = minimize(\n",
    "        compute_loss_grad, get_weights(network),\n",
    "        args=[network, X_train, y_train],\n",
    "        method=\"L-BFGS-B\", \n",
    "        jac=True,\n",
    "    )\n",
    "    accs_train[i,j], accs_test[i,j] = score(network, res)\n",
    "\n",
    "# visualization\n",
    "fig, axes = plt.subplots(2, 1, figsize=(6, 5))\n",
    "\n",
    "axes[0].boxplot(accs_train.T, showfliers=False)\n",
    "axes[1].boxplot(accs_test.T, showfliers=False)\n",
    "\n",
    "axes[0].set_xlabel(\"Number of layers\")\n",
    "axes[1].set_xlabel(\"Number of layers\")\n",
    "\n",
    "axes[0].set_ylabel(\"Train accuracy\")\n",
    "axes[1].set_ylabel(\"Test accuracy\")\n",
    "\n",
    "axes[0].set_title(\"Train quality in 5 runs\")\n",
    "axes[1].set_title(\"Test quality in 5 runs\")\n",
    "\n",
    "axes[0].grid(True)\n",
    "axes[1].grid(True)\n",
    "\n",
    "fig.tight_layout()\n",
    "plt.show()"
   ]
  },
  {
   "attachments": {},
   "cell_type": "markdown",
   "metadata": {},
   "source": [
    "Мысли:\n",
    "- на обучении качество всегда 100-процентное\n",
    "- на тесте качество унимодально по числу слоёв: максимум достигается при трех слоях\n",
    "- результаты всегда одинаково неустойчивы при 2, 4, 5 слоях\n",
    "- линейная модель дает качество хуже"
   ]
  },
  {
   "attachments": {},
   "cell_type": "markdown",
   "metadata": {},
   "source": [
    "### Инициализация весов"
   ]
  },
  {
   "attachments": {},
   "cell_type": "markdown",
   "metadata": {},
   "source": [
    "Посмотрим, как инициализация весов влияет скорость и качество обучения."
   ]
  },
  {
   "cell_type": "code",
   "execution_count": 19,
   "metadata": {},
   "outputs": [],
   "source": [
    "def initialize_network(network, initialization):\n",
    "    for layer in network:\n",
    "        if isinstance(layer, Dense):\n",
    "            output_units, input_units = layer.weights.shape\n",
    "            if initialization == 'Kaiming':\n",
    "                layer.weights = np.random.normal(\n",
    "                    loc=0,\n",
    "                    scale=np.sqrt(2/input_units),\n",
    "                    size=(output_units, input_units))\n",
    "            elif initialization == 'Xavier':\n",
    "                layer.weights = np.random.uniform(\n",
    "                    low=-1/np.sqrt(input_units),\n",
    "                    high=1/np.sqrt(input_units),\n",
    "                    size=(output_units, input_units))\n",
    "                pass\n",
    "            else:\n",
    "                # In case `initialization` represents a standard deviation\n",
    "                layer.weights = np.random.randn(output_units, input_units) * initialization\n",
    "            layer.biases = np.zeros_like(layer.biases)\n",
    "            \n",
    "            layer.params = [layer.weights, layer.biases]"
   ]
  },
  {
   "cell_type": "code",
   "execution_count": 20,
   "metadata": {},
   "outputs": [
    {
     "data": {
      "image/png": "[encoded data removed]",
      "text/plain": [
       "<Figure size 640x480 with 1 Axes>"
      ]
     },
     "metadata": {},
     "output_type": "display_data"
    }
   ],
   "source": [
    "# config\n",
    "init_vars = [5e-3, 1e-2, 1e-1, 'Kaiming', 'Xavier']\n",
    "\n",
    "n_inits = 5\n",
    "n_tries = 5\n",
    "accs_train = np.zeros((n_inits, n_tries))\n",
    "accs_test = np.zeros((n_inits, n_tries))\n",
    "\n",
    "input_size = X_train.shape[1]\n",
    "hidden_layers_size = 32\n",
    "output_size = 10\n",
    "\n",
    "# experiments\n",
    "for i, init in enumerate(init_vars):\n",
    "  for j in range(n_tries):\n",
    "    network = make_network(input_size, hidden_layers_size, output_size, 4, ReLU)\n",
    "    initialize_network(network, init)\n",
    "    res = minimize(\n",
    "        compute_loss_grad, get_weights(network),\n",
    "        args=[network, X_train, y_train],\n",
    "        method=\"L-BFGS-B\", \n",
    "        jac=True,\n",
    "    )\n",
    "    accs_train[i,j], accs_test[i,j] = score(network, res)\n",
    "\n",
    "# visualization\n",
    "init_vars_for_plot = [(x if isinstance(x, str) else fr\"$\\sigma = {x}$\") for x in init_vars]\n",
    "\n",
    "plt.boxplot(accs_test.T, labels=init_vars_for_plot, showfliers=False)\n",
    "\n",
    "plt.title(\"Test quality in 5 runs  (4 layers)\")\n",
    "plt.xlabel(\"Initialization\")\n",
    "plt.ylabel(\"Test accuracy\")\n",
    "plt.grid(True)\n",
    "\n",
    "plt.tight_layout()\n",
    "plt.show()"
   ]
  },
  {
   "attachments": {},
   "cell_type": "markdown",
   "metadata": {},
   "source": [
    "### Функции активации"
   ]
  },
  {
   "attachments": {},
   "cell_type": "markdown",
   "metadata": {},
   "source": [
    "Посмотрим, как выбор функции активации влияет на качество"
   ]
  },
  {
   "cell_type": "code",
   "execution_count": 21,
   "metadata": {},
   "outputs": [
    {
     "data": {
      "image/png": "[encoded data removed]",
      "text/plain": [
       "<Figure size 640x480 with 1 Axes>"
      ]
     },
     "metadata": {},
     "output_type": "display_data"
    }
   ],
   "source": [
    "# config\n",
    "act_func_vars = [ReLU, Tanh, Sigmoid]\n",
    "init_for_act_funcs = ['Kaiming', 'Xavier', 'Xavier']\n",
    "\n",
    "n_acts = len(act_func_vars)\n",
    "n_tries = 5\n",
    "accs_train = np.zeros((n_acts, n_tries))\n",
    "accs_test = np.zeros((n_acts, n_tries))\n",
    "\n",
    "input_size = X_train.shape[1]\n",
    "hidden_layers_size = 32\n",
    "output_size = 10\n",
    "\n",
    "# experiments\n",
    "for i, act in enumerate(act_func_vars):\n",
    "  for j in range(n_tries):\n",
    "    network = make_network(input_size, hidden_layers_size, output_size, 3, act)\n",
    "    initialize_network(network, init_for_act_funcs[i])\n",
    "    res = minimize(\n",
    "        compute_loss_grad, get_weights(network),\n",
    "        args=[network, X_train, y_train],\n",
    "        method=\"L-BFGS-B\", \n",
    "        jac=True,\n",
    "    )\n",
    "    accs_train[i,j], accs_test[i,j] = score(network, res)\n",
    "\n",
    "# visualization\n",
    "plt.boxplot(accs_test.T,\n",
    "           labels=[act.__repr__(act) for act in act_func_vars],\n",
    "           showfliers=False)\n",
    "\n",
    "plt.title(\"Test quality in 5 runs\")\n",
    "plt.xlabel(\"Activation function\")\n",
    "plt.ylabel(\"Test accuracy\")\n",
    "plt.grid(True)\n",
    "\n",
    "plt.tight_layout()\n",
    "plt.show()"
   ]
  }
 ],
 "metadata": {
  "kernelspec": {
   "display_name": "Python 3",
   "language": "python",
   "name": "python3"
  },
  "language_info": {
   "codemirror_mode": {
    "name": "ipython",
    "version": 3
   },
   "file_extension": ".py",
   "mimetype": "text/x-python",
   "name": "python",
   "nbconvert_exporter": "python",
   "pygments_lexer": "ipython3",
   "version": "3.10.6"
  },
  "orig_nbformat": 4
 },
 "nbformat": 4,
 "nbformat_minor": 2
}
